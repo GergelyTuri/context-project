{
  "nbformat": 4,
  "nbformat_minor": 0,
  "metadata": {
    "colab": {
      "provenance": [],
      "include_colab_link": true
    },
    "kernelspec": {
      "name": "python3",
      "display_name": "Python 3"
    },
    "language_info": {
      "name": "python"
    }
  },
  "cells": [
    {
      "cell_type": "markdown",
      "metadata": {
        "id": "view-in-github",
        "colab_type": "text"
      },
      "source": [
        "<a href=\"https://colab.research.google.com/github/GergelyTuri/context-project/blob/main/notebooks/colocalization_analysis.ipynb\" target=\"_parent\"><img src=\"https://colab.research.google.com/assets/colab-badge.svg\" alt=\"Open In Colab\"/></a>"
      ]
    },
    {
      "cell_type": "markdown",
      "source": [
        "# Analyzing RNAsocpe colocalization\n",
        "* 12/1/2023"
      ],
      "metadata": {
        "id": "cGck39eQNvZV"
      }
    },
    {
      "cell_type": "code",
      "source": [
        "import matplotlib.pyplot as plt\n",
        "import pandas as pd\n",
        "import xml.etree.ElementTree as ET\n",
        "import seaborn as sns\n",
        "import numpy as np\n",
        "from scipy.spatial.distance import cdist\n"
      ],
      "metadata": {
        "id": "JKgv9E1mN4pY"
      },
      "execution_count": null,
      "outputs": []
    },
    {
      "cell_type": "code",
      "source": [
        "filelocation=\"/gdrive/Shareddrives/Turi_lab/Data/psilocybin_project/Stephanies/analysis/date/dual_10_13_23/series_1/Cellcounter_dual_10_13_23_series1.xml\""
      ],
      "metadata": {
        "id": "C3V0Yub-Oe7-"
      },
      "execution_count": null,
      "outputs": []
    },
    {
      "cell_type": "code",
      "source": [
        "tree = ET.parse(filelocation)\n",
        "root = tree.getroot()\n",
        "\n",
        "for child in root:\n",
        "    print(f\"Element: {child.tag}, Attribute: {child.get('MarkerX')}\")"
      ],
      "metadata": {
        "colab": {
          "base_uri": "https://localhost:8080/"
        },
        "id": "ePW6GHybOYhI",
        "outputId": "3e974ef6-7e0e-4b05-8f70-67589e17b2fd"
      },
      "execution_count": null,
      "outputs": [
        {
          "output_type": "stream",
          "name": "stdout",
          "text": [
            "Element: Image_Properties, Attribute: None\n",
            "Element: Marker_Data, Attribute: None\n"
          ]
        }
      ]
    },
    {
      "cell_type": "code",
      "source": [
        "from google.colab import drive\n",
        "drive.mount('/gdrive')"
      ],
      "metadata": {
        "colab": {
          "base_uri": "https://localhost:8080/"
        },
        "id": "7tSn6vuAOJLP",
        "outputId": "f33cec64-13e3-4edf-c893-c0b684e10f44"
      },
      "execution_count": null,
      "outputs": [
        {
          "output_type": "stream",
          "name": "stdout",
          "text": [
            "Mounted at /gdrive\n"
          ]
        }
      ]
    },
    {
      "cell_type": "code",
      "source": [
        "# Create lists to store data\n",
        "types = []\n",
        "marker_x_values = []\n",
        "marker_y_values = []\n",
        "\n",
        "# Iterate through Marker elements\n",
        "for marker_type in root.findall('.//Marker_Type'):\n",
        "    current_type = marker_type.find('Type').text\n",
        "    for marker in marker_type.findall('.//Marker'):\n",
        "        marker_x = marker.find('MarkerX').text\n",
        "        marker_y = marker.find('MarkerY').text\n",
        "\n",
        "        # Append data to lists\n",
        "        types.append(current_type)\n",
        "        marker_x_values.append(marker_x)\n",
        "        marker_y_values.append(marker_y)\n",
        "\n",
        "# Create a DataFrame\n",
        "data = {'Type': types, 'MarkerX': marker_x_values, 'MarkerY': marker_y_values}\n",
        "df = pd.DataFrame(data)\n",
        "\n",
        "# Display the DataFrame\n",
        "df\n"
      ],
      "metadata": {
        "colab": {
          "base_uri": "https://localhost:8080/",
          "height": 424
        },
        "id": "yiLF53wbPpdF",
        "outputId": "b47e78d0-0b6f-4c1e-e44c-c7c36ac1e0ce"
      },
      "execution_count": null,
      "outputs": [
        {
          "output_type": "execute_result",
          "data": {
            "text/plain": [
              "   Type MarkerX MarkerY\n",
              "0     1     489      68\n",
              "1     1     474      24\n",
              "2     1     230     208\n",
              "3     1     286     258\n",
              "4     1     445     337\n",
              "..  ...     ...     ...\n",
              "85    2     490     550\n",
              "86    2     426     550\n",
              "87    2     753     400\n",
              "88    2     730     457\n",
              "89    2     532      66\n",
              "\n",
              "[90 rows x 3 columns]"
            ],
            "text/html": [
              "\n",
              "  <div id=\"df-ca616ffd-c3a8-4ddd-8eff-5da15c509264\" class=\"colab-df-container\">\n",
              "    <div>\n",
              "<style scoped>\n",
              "    .dataframe tbody tr th:only-of-type {\n",
              "        vertical-align: middle;\n",
              "    }\n",
              "\n",
              "    .dataframe tbody tr th {\n",
              "        vertical-align: top;\n",
              "    }\n",
              "\n",
              "    .dataframe thead th {\n",
              "        text-align: right;\n",
              "    }\n",
              "</style>\n",
              "<table border=\"1\" class=\"dataframe\">\n",
              "  <thead>\n",
              "    <tr style=\"text-align: right;\">\n",
              "      <th></th>\n",
              "      <th>Type</th>\n",
              "      <th>MarkerX</th>\n",
              "      <th>MarkerY</th>\n",
              "    </tr>\n",
              "  </thead>\n",
              "  <tbody>\n",
              "    <tr>\n",
              "      <th>0</th>\n",
              "      <td>1</td>\n",
              "      <td>489</td>\n",
              "      <td>68</td>\n",
              "    </tr>\n",
              "    <tr>\n",
              "      <th>1</th>\n",
              "      <td>1</td>\n",
              "      <td>474</td>\n",
              "      <td>24</td>\n",
              "    </tr>\n",
              "    <tr>\n",
              "      <th>2</th>\n",
              "      <td>1</td>\n",
              "      <td>230</td>\n",
              "      <td>208</td>\n",
              "    </tr>\n",
              "    <tr>\n",
              "      <th>3</th>\n",
              "      <td>1</td>\n",
              "      <td>286</td>\n",
              "      <td>258</td>\n",
              "    </tr>\n",
              "    <tr>\n",
              "      <th>4</th>\n",
              "      <td>1</td>\n",
              "      <td>445</td>\n",
              "      <td>337</td>\n",
              "    </tr>\n",
              "    <tr>\n",
              "      <th>...</th>\n",
              "      <td>...</td>\n",
              "      <td>...</td>\n",
              "      <td>...</td>\n",
              "    </tr>\n",
              "    <tr>\n",
              "      <th>85</th>\n",
              "      <td>2</td>\n",
              "      <td>490</td>\n",
              "      <td>550</td>\n",
              "    </tr>\n",
              "    <tr>\n",
              "      <th>86</th>\n",
              "      <td>2</td>\n",
              "      <td>426</td>\n",
              "      <td>550</td>\n",
              "    </tr>\n",
              "    <tr>\n",
              "      <th>87</th>\n",
              "      <td>2</td>\n",
              "      <td>753</td>\n",
              "      <td>400</td>\n",
              "    </tr>\n",
              "    <tr>\n",
              "      <th>88</th>\n",
              "      <td>2</td>\n",
              "      <td>730</td>\n",
              "      <td>457</td>\n",
              "    </tr>\n",
              "    <tr>\n",
              "      <th>89</th>\n",
              "      <td>2</td>\n",
              "      <td>532</td>\n",
              "      <td>66</td>\n",
              "    </tr>\n",
              "  </tbody>\n",
              "</table>\n",
              "<p>90 rows × 3 columns</p>\n",
              "</div>\n",
              "    <div class=\"colab-df-buttons\">\n",
              "\n",
              "  <div class=\"colab-df-container\">\n",
              "    <button class=\"colab-df-convert\" onclick=\"convertToInteractive('df-ca616ffd-c3a8-4ddd-8eff-5da15c509264')\"\n",
              "            title=\"Convert this dataframe to an interactive table.\"\n",
              "            style=\"display:none;\">\n",
              "\n",
              "  <svg xmlns=\"http://www.w3.org/2000/svg\" height=\"24px\" viewBox=\"0 -960 960 960\">\n",
              "    <path d=\"M120-120v-720h720v720H120Zm60-500h600v-160H180v160Zm220 220h160v-160H400v160Zm0 220h160v-160H400v160ZM180-400h160v-160H180v160Zm440 0h160v-160H620v160ZM180-180h160v-160H180v160Zm440 0h160v-160H620v160Z\"/>\n",
              "  </svg>\n",
              "    </button>\n",
              "\n",
              "  <style>\n",
              "    .colab-df-container {\n",
              "      display:flex;\n",
              "      gap: 12px;\n",
              "    }\n",
              "\n",
              "    .colab-df-convert {\n",
              "      background-color: #E8F0FE;\n",
              "      border: none;\n",
              "      border-radius: 50%;\n",
              "      cursor: pointer;\n",
              "      display: none;\n",
              "      fill: #1967D2;\n",
              "      height: 32px;\n",
              "      padding: 0 0 0 0;\n",
              "      width: 32px;\n",
              "    }\n",
              "\n",
              "    .colab-df-convert:hover {\n",
              "      background-color: #E2EBFA;\n",
              "      box-shadow: 0px 1px 2px rgba(60, 64, 67, 0.3), 0px 1px 3px 1px rgba(60, 64, 67, 0.15);\n",
              "      fill: #174EA6;\n",
              "    }\n",
              "\n",
              "    .colab-df-buttons div {\n",
              "      margin-bottom: 4px;\n",
              "    }\n",
              "\n",
              "    [theme=dark] .colab-df-convert {\n",
              "      background-color: #3B4455;\n",
              "      fill: #D2E3FC;\n",
              "    }\n",
              "\n",
              "    [theme=dark] .colab-df-convert:hover {\n",
              "      background-color: #434B5C;\n",
              "      box-shadow: 0px 1px 3px 1px rgba(0, 0, 0, 0.15);\n",
              "      filter: drop-shadow(0px 1px 2px rgba(0, 0, 0, 0.3));\n",
              "      fill: #FFFFFF;\n",
              "    }\n",
              "  </style>\n",
              "\n",
              "    <script>\n",
              "      const buttonEl =\n",
              "        document.querySelector('#df-ca616ffd-c3a8-4ddd-8eff-5da15c509264 button.colab-df-convert');\n",
              "      buttonEl.style.display =\n",
              "        google.colab.kernel.accessAllowed ? 'block' : 'none';\n",
              "\n",
              "      async function convertToInteractive(key) {\n",
              "        const element = document.querySelector('#df-ca616ffd-c3a8-4ddd-8eff-5da15c509264');\n",
              "        const dataTable =\n",
              "          await google.colab.kernel.invokeFunction('convertToInteractive',\n",
              "                                                    [key], {});\n",
              "        if (!dataTable) return;\n",
              "\n",
              "        const docLinkHtml = 'Like what you see? Visit the ' +\n",
              "          '<a target=\"_blank\" href=https://colab.research.google.com/notebooks/data_table.ipynb>data table notebook</a>'\n",
              "          + ' to learn more about interactive tables.';\n",
              "        element.innerHTML = '';\n",
              "        dataTable['output_type'] = 'display_data';\n",
              "        await google.colab.output.renderOutput(dataTable, element);\n",
              "        const docLink = document.createElement('div');\n",
              "        docLink.innerHTML = docLinkHtml;\n",
              "        element.appendChild(docLink);\n",
              "      }\n",
              "    </script>\n",
              "  </div>\n",
              "\n",
              "\n",
              "<div id=\"df-ac49bdd1-9555-4d89-9841-e00f2f285ab3\">\n",
              "  <button class=\"colab-df-quickchart\" onclick=\"quickchart('df-ac49bdd1-9555-4d89-9841-e00f2f285ab3')\"\n",
              "            title=\"Suggest charts\"\n",
              "            style=\"display:none;\">\n",
              "\n",
              "<svg xmlns=\"http://www.w3.org/2000/svg\" height=\"24px\"viewBox=\"0 0 24 24\"\n",
              "     width=\"24px\">\n",
              "    <g>\n",
              "        <path d=\"M19 3H5c-1.1 0-2 .9-2 2v14c0 1.1.9 2 2 2h14c1.1 0 2-.9 2-2V5c0-1.1-.9-2-2-2zM9 17H7v-7h2v7zm4 0h-2V7h2v10zm4 0h-2v-4h2v4z\"/>\n",
              "    </g>\n",
              "</svg>\n",
              "  </button>\n",
              "\n",
              "<style>\n",
              "  .colab-df-quickchart {\n",
              "      --bg-color: #E8F0FE;\n",
              "      --fill-color: #1967D2;\n",
              "      --hover-bg-color: #E2EBFA;\n",
              "      --hover-fill-color: #174EA6;\n",
              "      --disabled-fill-color: #AAA;\n",
              "      --disabled-bg-color: #DDD;\n",
              "  }\n",
              "\n",
              "  [theme=dark] .colab-df-quickchart {\n",
              "      --bg-color: #3B4455;\n",
              "      --fill-color: #D2E3FC;\n",
              "      --hover-bg-color: #434B5C;\n",
              "      --hover-fill-color: #FFFFFF;\n",
              "      --disabled-bg-color: #3B4455;\n",
              "      --disabled-fill-color: #666;\n",
              "  }\n",
              "\n",
              "  .colab-df-quickchart {\n",
              "    background-color: var(--bg-color);\n",
              "    border: none;\n",
              "    border-radius: 50%;\n",
              "    cursor: pointer;\n",
              "    display: none;\n",
              "    fill: var(--fill-color);\n",
              "    height: 32px;\n",
              "    padding: 0;\n",
              "    width: 32px;\n",
              "  }\n",
              "\n",
              "  .colab-df-quickchart:hover {\n",
              "    background-color: var(--hover-bg-color);\n",
              "    box-shadow: 0 1px 2px rgba(60, 64, 67, 0.3), 0 1px 3px 1px rgba(60, 64, 67, 0.15);\n",
              "    fill: var(--button-hover-fill-color);\n",
              "  }\n",
              "\n",
              "  .colab-df-quickchart-complete:disabled,\n",
              "  .colab-df-quickchart-complete:disabled:hover {\n",
              "    background-color: var(--disabled-bg-color);\n",
              "    fill: var(--disabled-fill-color);\n",
              "    box-shadow: none;\n",
              "  }\n",
              "\n",
              "  .colab-df-spinner {\n",
              "    border: 2px solid var(--fill-color);\n",
              "    border-color: transparent;\n",
              "    border-bottom-color: var(--fill-color);\n",
              "    animation:\n",
              "      spin 1s steps(1) infinite;\n",
              "  }\n",
              "\n",
              "  @keyframes spin {\n",
              "    0% {\n",
              "      border-color: transparent;\n",
              "      border-bottom-color: var(--fill-color);\n",
              "      border-left-color: var(--fill-color);\n",
              "    }\n",
              "    20% {\n",
              "      border-color: transparent;\n",
              "      border-left-color: var(--fill-color);\n",
              "      border-top-color: var(--fill-color);\n",
              "    }\n",
              "    30% {\n",
              "      border-color: transparent;\n",
              "      border-left-color: var(--fill-color);\n",
              "      border-top-color: var(--fill-color);\n",
              "      border-right-color: var(--fill-color);\n",
              "    }\n",
              "    40% {\n",
              "      border-color: transparent;\n",
              "      border-right-color: var(--fill-color);\n",
              "      border-top-color: var(--fill-color);\n",
              "    }\n",
              "    60% {\n",
              "      border-color: transparent;\n",
              "      border-right-color: var(--fill-color);\n",
              "    }\n",
              "    80% {\n",
              "      border-color: transparent;\n",
              "      border-right-color: var(--fill-color);\n",
              "      border-bottom-color: var(--fill-color);\n",
              "    }\n",
              "    90% {\n",
              "      border-color: transparent;\n",
              "      border-bottom-color: var(--fill-color);\n",
              "    }\n",
              "  }\n",
              "</style>\n",
              "\n",
              "  <script>\n",
              "    async function quickchart(key) {\n",
              "      const quickchartButtonEl =\n",
              "        document.querySelector('#' + key + ' button');\n",
              "      quickchartButtonEl.disabled = true;  // To prevent multiple clicks.\n",
              "      quickchartButtonEl.classList.add('colab-df-spinner');\n",
              "      try {\n",
              "        const charts = await google.colab.kernel.invokeFunction(\n",
              "            'suggestCharts', [key], {});\n",
              "      } catch (error) {\n",
              "        console.error('Error during call to suggestCharts:', error);\n",
              "      }\n",
              "      quickchartButtonEl.classList.remove('colab-df-spinner');\n",
              "      quickchartButtonEl.classList.add('colab-df-quickchart-complete');\n",
              "    }\n",
              "    (() => {\n",
              "      let quickchartButtonEl =\n",
              "        document.querySelector('#df-ac49bdd1-9555-4d89-9841-e00f2f285ab3 button');\n",
              "      quickchartButtonEl.style.display =\n",
              "        google.colab.kernel.accessAllowed ? 'block' : 'none';\n",
              "    })();\n",
              "  </script>\n",
              "</div>\n",
              "    </div>\n",
              "  </div>\n"
            ]
          },
          "metadata": {},
          "execution_count": 10
        }
      ]
    },
    {
      "cell_type": "code",
      "source": [
        "df['MarkerX'] = df['MarkerX'].astype(int)\n",
        "df['MarkerY'] = df['MarkerY'].astype(int)"
      ],
      "metadata": {
        "id": "qTyswkRVQol_"
      },
      "execution_count": null,
      "outputs": []
    },
    {
      "cell_type": "code",
      "source": [
        "# Calculate pairwise distances using scipy's cdist\n",
        "distances_matrix = cdist(type1_coords, type2_coords)\n",
        "\n",
        "# Find the closest Type 2 point for each Type 1 point\n",
        "closest_indices = np.argmin(distances_matrix, axis=1)\n",
        "\n",
        "# Create a new DataFrame with Type 1 and closest Type 2 coordinates\n",
        "df_closest = pd.DataFrame({\n",
        "    'Type1_MarkerX': type1_coords[:, 0],\n",
        "    'Type1_MarkerY': type1_coords[:, 1],\n",
        "    'Type2_MarkerX': type2_coords[closest_indices, 0],\n",
        "    'Type2_MarkerY': type2_coords[closest_indices, 1],\n",
        "})\n",
        "\n",
        "# Calculate distances and add a new column\n",
        "df_closest['Distance'] = np.linalg.norm(df_closest[['Type1_MarkerX', 'Type1_MarkerY']].values -\n",
        "                                         df_closest[['Type2_MarkerX', 'Type2_MarkerY']].values, axis=1)\n",
        "\n",
        "# Display the DataFrame with the added 'Distance' column\n",
        "print(df_closest)"
      ],
      "metadata": {
        "colab": {
          "base_uri": "https://localhost:8080/"
        },
        "id": "q2wUOvaESrC2",
        "outputId": "176630a6-85b0-4664-fb0b-5439828c47ee"
      },
      "execution_count": null,
      "outputs": [
        {
          "output_type": "stream",
          "name": "stdout",
          "text": [
            "    Type1_MarkerX  Type1_MarkerY  Type2_MarkerX  Type2_MarkerY   Distance\n",
            "0             489             68            489             49  19.000000\n",
            "1             474             24            480             23   6.082763\n",
            "2             230            208            265            138  78.262379\n",
            "3             286            258            322            260  36.055513\n",
            "4             445            337            394            313  56.364883\n",
            "5             394            300            394            313  13.000000\n",
            "6             394            212            391            230  18.248288\n",
            "7             337            180            348            184  11.704700\n",
            "8             602            130            642            125  40.311289\n",
            "9             566            229            552            285  57.723479\n",
            "10            530            282            552            285  22.203603\n",
            "11            614            353            606            344  12.041595\n",
            "12            488            388            508            365  30.479501\n",
            "13            408            537            426            550  22.203603\n",
            "14            510            564            490            550  24.413111\n",
            "15            692            446            730            457  39.560081\n",
            "16            557            453            600            458  43.289722\n",
            "17            564            410            554            407  10.440307\n",
            "18            418            418            408            413  11.180340\n",
            "19            762            412            753            400  15.000000\n",
            "20            702            302            686            271  34.885527\n",
            "21            654            518            694            502  43.081318\n",
            "22            700            534            694            502  32.557641\n",
            "23            556            600            569            522  79.075913\n",
            "24            570            514            569            522   8.062258\n",
            "25            470            501            480            485  18.867962\n",
            "26            504            437            501            425  12.369317\n",
            "27            469            192            503            175  38.013156\n",
            "28            444            218            435            216   9.219544\n",
            "29            502            178            503            175   3.162278\n",
            "30            682            444            730            457  49.729267\n",
            "31            518            758            517            757   1.414214\n",
            "32            477            792            517            757  53.150729\n",
            "33            732            468            730            457  11.180340\n",
            "34            345            232            337            234   8.246211\n",
            "35            404             48            420             60  20.000000\n",
            "36            537            118            532             66  52.239832\n",
            "37            664            197            658            196   6.082763\n",
            "38            776            241            736            240  40.012498\n",
            "39            638            608            649            582  28.231188\n",
            "40            709            600            649            582  62.641839\n",
            "41            409            124            433            142  30.000000\n",
            "42            358            474            350            466  11.313708\n",
            "43            652            129            642            125  10.770330\n",
            "44            741            229            736            240  12.083046\n"
          ]
        }
      ]
    },
    {
      "cell_type": "code",
      "source": [
        "# Create a scatter plot with seaborn\n",
        "sns.scatterplot(x='MarkerX', y='MarkerY', hue='Type', data=df, palette='Set1')\n",
        "sns.scatterplot(x='Type1_MarkerX', y='Type1_MarkerY', data=df_filtered, color='k', marker='x')\n",
        "# Show the plot\n",
        "plt.title('Scatter Plot of Marker Data')\n",
        "plt.show()"
      ],
      "metadata": {
        "colab": {
          "base_uri": "https://localhost:8080/",
          "height": 472
        },
        "id": "rQNtFfbbPy9b",
        "outputId": "c323981c-3407-4389-886f-71bd448d625e"
      },
      "execution_count": null,
      "outputs": [
        {
          "output_type": "display_data",
          "data": {
            "text/plain": [
              "<Figure size 640x480 with 1 Axes>"
            ],
            "image/png": "[encoded data removed]"
          },
          "metadata": {}
        }
      ]
    },
    {
      "cell_type": "code",
      "source": [
        "df_filtered = df_closest[df_closest['Distance'] < 15]\n",
        "\n",
        "# Create a scatter plot with seaborn for the filtered DataFrame\n",
        "sns.scatterplot(x='Type1_MarkerX', y='Type1_MarkerY', data=df_filtered, palette='Set1')\n",
        "\n",
        "# Show the plot\n",
        "plt.title('Scatter Plot of Marker Data with Distance < 15')\n",
        "plt.show()"
      ],
      "metadata": {
        "colab": {
          "base_uri": "https://localhost:8080/",
          "height": 507
        },
        "id": "wkke5CK6QcE8",
        "outputId": "951f9fcf-53d4-4703-af7f-fc87861a0642"
      },
      "execution_count": null,
      "outputs": [
        {
          "output_type": "stream",
          "name": "stderr",
          "text": [
            "<ipython-input-30-a5018df32a34>:4: UserWarning: Ignoring `palette` because no `hue` variable has been assigned.\n",
            "  sns.scatterplot(x='Type1_MarkerX', y='Type1_MarkerY', data=df_filtered, palette='Set1')\n"
          ]
        },
        {
          "output_type": "display_data",
          "data": {
            "text/plain": [
              "<Figure size 640x480 with 1 Axes>"
            ],
            "image/png": "[encoded data removed]"
          },
          "metadata": {}
        }
      ]
    }
  ]
}